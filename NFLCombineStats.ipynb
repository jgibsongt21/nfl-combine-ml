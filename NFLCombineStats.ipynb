{
 "cells": [
  {
   "cell_type": "markdown",
   "metadata": {},
   "source": [
    "# Imports"
   ]
  },
  {
   "cell_type": "code",
   "execution_count": 18,
   "metadata": {
    "collapsed": true
   },
   "outputs": [],
   "source": [
    "import pandas as pd\n",
    "import numpy as np\n",
    "import random as rand\n",
    "import matplotlib.pyplot as plt\n",
    "from sklearn.model_selection import train_test_split\n",
    "from sklearn.ensemble import RandomForestClassifier\n",
    "from sklearn.svm import SVC\n",
    "from sklearn.neural_network import MLPClassifier\n",
    "from sklearn.model_selection import RandomizedSearchCV\n",
    "from sklearn.metrics import accuracy_score\n",
    "from sklearn.model_selection import GridSearchCV\n",
    "from sklearn import model_selection"
   ]
  },
  {
   "cell_type": "markdown",
   "metadata": {},
   "source": [
    "# Pull Data from Excel File"
   ]
  },
  {
   "cell_type": "code",
   "execution_count": 2,
   "metadata": {},
   "outputs": [
    {
     "data": {
      "text/plain": [
       "(1505, 13)"
      ]
     },
     "execution_count": 2,
     "metadata": {},
     "output_type": "execute_result"
    }
   ],
   "source": [
    "df = pd.read_excel('NFLCombineStats.xlsx')\n",
    "df = df.dropna(axis=0) # Drop incomplete entries\n",
    "df = df[df.Pos != 'Quarterback'] # Only 1 QB, so remove\n",
    "df = df.replace('OL', 0)\n",
    "df = df.replace('C', 0)\n",
    "df = df.replace('OT', 0)\n",
    "df = df.replace('OG', 0)\n",
    "df = df.replace('LS', 0)\n",
    "df = df.replace('RB', 1)\n",
    "df = df.replace('FB', 1)\n",
    "df = df.replace('WR', 2)\n",
    "df = df.replace('TE', 3)\n",
    "df = df[df.Pos != 'QB'] # Only 8 QBs, so removed\n",
    "df = df.replace('QB', 4) \n",
    "df = df.replace('DL', 5)\n",
    "df = df.replace('DT', 5)\n",
    "df = df.replace('DE', 5)\n",
    "df = df.replace('EDGE', 5)\n",
    "df = df.replace('LB', 6)\n",
    "df = df.replace('ILB', 6)\n",
    "df = df.replace('OLB', 6)\n",
    "df = df.replace('CB', 7)\n",
    "df = df.replace('S', 8)\n",
    "df = df.replace('FS', 8)\n",
    "df = df.replace('SS', 8)\n",
    "data = df.as_matrix()\n",
    "data.shape"
   ]
  },
  {
   "cell_type": "code",
   "execution_count": 3,
   "metadata": {
    "collapsed": true
   },
   "outputs": [],
   "source": [
    "x = data[:, 4:13]\n",
    "y = data[:, 1].astype('int')\n",
    "x_train, x_test, y_train, y_test = train_test_split(x, y, test_size = 0.2)"
   ]
  },
  {
   "cell_type": "code",
   "execution_count": 4,
   "metadata": {},
   "outputs": [
    {
     "name": "stdout",
     "output_type": "stream",
     "text": [
      "{0: 240, 7: 172, 5: 290, 1: 172, 8: 113, 6: 193, 3: 91, 2: 234}\n"
     ]
    }
   ],
   "source": [
    "counts = {}\n",
    "for i in range(len(y)):\n",
    "    counts[y[i]] = counts.get(y[i], 0) + 1\n",
    "print(counts)"
   ]
  },
  {
   "cell_type": "markdown",
   "metadata": {},
   "source": [
    "# Prior to Hyperparameter Tuning"
   ]
  },
  {
   "cell_type": "code",
   "execution_count": 105,
   "metadata": {
    "scrolled": true
   },
   "outputs": [
    {
     "name": "stdout",
     "output_type": "stream",
     "text": [
      "0.991694352159\n",
      "0.810631229236\n"
     ]
    }
   ],
   "source": [
    "# RANDOM FOREST\n",
    "clf = RandomForestClassifier()\n",
    "clf = clf.fit(x_train, y_train)\n",
    "y_pred = clf.predict(x_train)\n",
    "print(accuracy_score(y_train, y_pred))\n",
    "y_pred = clf.predict(x_test)\n",
    "print(accuracy_score(y_test, y_pred))"
   ]
  },
  {
   "cell_type": "code",
   "execution_count": 124,
   "metadata": {},
   "outputs": [
    {
     "name": "stdout",
     "output_type": "stream",
     "text": [
      "0.975913621262\n",
      "0.491694352159\n"
     ]
    }
   ],
   "source": [
    "# SUPPORT VECTOR CLASSIFIER\n",
    "clf = SVC()\n",
    "clf = clf.fit(x_train, y_train)\n",
    "y_pred = clf.predict(x_train)\n",
    "print(accuracy_score(y_train, y_pred))\n",
    "y_pred = clf.predict(x_test)\n",
    "print(accuracy_score(y_test, y_pred))"
   ]
  },
  {
   "cell_type": "code",
   "execution_count": 125,
   "metadata": {},
   "outputs": [
    {
     "name": "stdout",
     "output_type": "stream",
     "text": [
      "0.444352159468\n",
      "0.401993355482\n"
     ]
    }
   ],
   "source": [
    "# NEURAL NET\n",
    "clf = MLPClassifier()\n",
    "clf = clf.fit(x_train, y_train)\n",
    "y_pred = clf.predict(x_train)\n",
    "print(accuracy_score(y_train, y_pred))\n",
    "y_pred = clf.predict(x_test)\n",
    "print(accuracy_score(y_test, y_pred))"
   ]
  },
  {
   "cell_type": "markdown",
   "metadata": {},
   "source": [
    "# Hyperparameter Tuning"
   ]
  },
  {
   "cell_type": "markdown",
   "metadata": {},
   "source": [
    "### Random Forest Classifier"
   ]
  },
  {
   "cell_type": "code",
   "execution_count": 99,
   "metadata": {},
   "outputs": [
    {
     "name": "stdout",
     "output_type": "stream",
     "text": [
      "Fitting 10 folds for each of 100 candidates, totalling 1000 fits\n"
     ]
    },
    {
     "name": "stderr",
     "output_type": "stream",
     "text": [
      "[Parallel(n_jobs=-1)]: Done  25 tasks      | elapsed:    7.7s\n",
      "[Parallel(n_jobs=-1)]: Done 146 tasks      | elapsed:   29.6s\n",
      "[Parallel(n_jobs=-1)]: Done 365 tasks      | elapsed:  1.2min\n",
      "[Parallel(n_jobs=-1)]: Done 648 tasks      | elapsed:  2.3min\n",
      "[Parallel(n_jobs=-1)]: Done 1000 out of 1000 | elapsed:  3.6min finished\n"
     ]
    },
    {
     "data": {
      "text/plain": [
       "{'max_depth': 25,\n",
       " 'max_features': 'auto',\n",
       " 'min_samples_leaf': 2,\n",
       " 'min_samples_split': 6,\n",
       " 'n_estimators': 500}"
      ]
     },
     "execution_count": 99,
     "metadata": {},
     "output_type": "execute_result"
    }
   ],
   "source": [
    "max_depth = [int(x) for x in np.linspace(1, 100, num = 5)]\n",
    "max_depth.append(None)\n",
    "rfc_random_grid = {'n_estimators': [int(x) for x in np.linspace(start = 1, stop = 1000, num = 5)],\n",
    "               'max_features': ['auto', 'sqrt'],\n",
    "               'max_depth': max_depth,\n",
    "               'min_samples_split': [2, 4, 6, 8, 10],\n",
    "               'min_samples_leaf': [2, 4, 6, 8, 10]}\n",
    "rfc = RandomForestClassifier()\n",
    "rfc_random = RandomizedSearchCV(estimator=rfc,param_distributions=rfc_random_grid,n_iter=100,cv=10,verbose=2,n_jobs=-1)\n",
    "rfc_random.fit(x_train, y_train)\n",
    "rfc_random.best_params_"
   ]
  },
  {
   "cell_type": "code",
   "execution_count": 103,
   "metadata": {
    "scrolled": true
   },
   "outputs": [
    {
     "name": "stdout",
     "output_type": "stream",
     "text": [
      "Fitting 10 folds for each of 126 candidates, totalling 1260 fits\n"
     ]
    },
    {
     "name": "stderr",
     "output_type": "stream",
     "text": [
      "[Parallel(n_jobs=-1)]: Done  25 tasks      | elapsed:    6.8s\n",
      "[Parallel(n_jobs=-1)]: Done 146 tasks      | elapsed:   31.8s\n",
      "[Parallel(n_jobs=-1)]: Done 349 tasks      | elapsed:  1.2min\n",
      "[Parallel(n_jobs=-1)]: Done 632 tasks      | elapsed:  2.2min\n",
      "[Parallel(n_jobs=-1)]: Done 997 tasks      | elapsed:  3.4min\n",
      "[Parallel(n_jobs=-1)]: Done 1260 out of 1260 | elapsed:  4.3min finished\n"
     ]
    },
    {
     "data": {
      "text/plain": [
       "{'max_depth': 20,\n",
       " 'max_features': 'auto',\n",
       " 'min_samples_leaf': 2,\n",
       " 'min_samples_split': 7,\n",
       " 'n_estimators': 550}"
      ]
     },
     "execution_count": 103,
     "metadata": {},
     "output_type": "execute_result"
    }
   ],
   "source": [
    "rfc_search_grid = {\n",
    "    'max_depth': [20, 25, 30],\n",
    "    'max_features': ['auto'],\n",
    "    'min_samples_leaf': [2, 3],\n",
    "    'min_samples_split': [5, 6, 7],\n",
    "    'n_estimators': [450, 475, 500, 525, 550, 575, 600]}\n",
    "rfc_grid = GridSearchCV(estimator=rfc,param_grid=rfc_search_grid,cv=10,n_jobs=-1,verbose = 2)\n",
    "rfc_grid.fit(x_train, y_train)\n",
    "rfc_grid.best_params_"
   ]
  },
  {
   "cell_type": "code",
   "execution_count": 104,
   "metadata": {},
   "outputs": [
    {
     "name": "stdout",
     "output_type": "stream",
     "text": [
      "0.96096345515\n",
      "0.87707641196\n"
     ]
    }
   ],
   "source": [
    "rfc_best_model = rfc_grid.best_estimator_\n",
    "y_pred = rfc_best_model.predict(x_train)\n",
    "print(accuracy_score(y_train, y_pred))\n",
    "y_pred = rfc_best_model.predict(x_test)\n",
    "print(accuracy_score(y_test, y_pred))"
   ]
  },
  {
   "cell_type": "markdown",
   "metadata": {},
   "source": [
    "### Support Vector Classifier"
   ]
  },
  {
   "cell_type": "code",
   "execution_count": 106,
   "metadata": {},
   "outputs": [
    {
     "name": "stdout",
     "output_type": "stream",
     "text": [
      "Fitting 10 folds for each of 25 candidates, totalling 250 fits\n"
     ]
    },
    {
     "name": "stderr",
     "output_type": "stream",
     "text": [
      "[Parallel(n_jobs=-1)]: Done  25 tasks      | elapsed:    2.8s\n",
      "[Parallel(n_jobs=-1)]: Done 146 tasks      | elapsed:    5.5s\n",
      "[Parallel(n_jobs=-1)]: Done 250 out of 250 | elapsed:    7.7s finished\n"
     ]
    },
    {
     "data": {
      "text/plain": [
       "{'C': 100.0, 'gamma': 0.01, 'kernel': 'rbf'}"
      ]
     },
     "execution_count": 106,
     "metadata": {},
     "output_type": "execute_result"
    }
   ],
   "source": [
    "svc_random_grid = {\n",
    "    'C': [1e-2, 1e-1, 1, 1e1, 1e2],\n",
    "    'kernel': ['rbf', 'sigmoid'],\n",
    "    'gamma': [1e-2, 1e-1, 1, 1e1, 1e2]}\n",
    "svc = SVC()\n",
    "svc_random = RandomizedSearchCV(estimator=svc, param_distributions=svc_random_grid, n_iter=25,\n",
    "                                 cv=10, verbose=2, n_jobs=-1)\n",
    "svc_random.fit(x_train, y_train)\n",
    "svc_random.best_params_"
   ]
  },
  {
   "cell_type": "code",
   "execution_count": 108,
   "metadata": {},
   "outputs": [
    {
     "name": "stdout",
     "output_type": "stream",
     "text": [
      "Fitting 10 folds for each of 40 candidates, totalling 400 fits\n"
     ]
    },
    {
     "name": "stderr",
     "output_type": "stream",
     "text": [
      "[Parallel(n_jobs=-1)]: Done  25 tasks      | elapsed:    2.6s\n",
      "[Parallel(n_jobs=-1)]: Done 146 tasks      | elapsed:    4.9s\n",
      "[Parallel(n_jobs=-1)]: Done 349 tasks      | elapsed:    8.9s\n",
      "[Parallel(n_jobs=-1)]: Done 400 out of 400 | elapsed:   10.1s finished\n"
     ]
    },
    {
     "data": {
      "text/plain": [
       "{'C': 80, 'gamma': 0.007, 'kernel': 'rbf'}"
      ]
     },
     "execution_count": 108,
     "metadata": {},
     "output_type": "execute_result"
    }
   ],
   "source": [
    "svc_search_grid = {\n",
    "    'C': [80, 90, 100, 110, 120],\n",
    "    'kernel': ['rbf'],\n",
    "    'gamma': [0.007, 0.008, 0.009, 0.01, 0.02, 0.03, 0.04, 0.05]}\n",
    "svc_grid = GridSearchCV(estimator=svc,param_grid=svc_search_grid,cv=10,n_jobs=-1,verbose = 2)\n",
    "svc_grid.fit(x_train, y_train)\n",
    "svc_grid.best_params_"
   ]
  },
  {
   "cell_type": "code",
   "execution_count": 109,
   "metadata": {},
   "outputs": [
    {
     "name": "stdout",
     "output_type": "stream",
     "text": [
      "0.974252491694\n",
      "0.790697674419\n"
     ]
    }
   ],
   "source": [
    "svc_best_model = svc_grid.best_estimator_\n",
    "y_pred = svc_best_model.predict(x_train)\n",
    "print(accuracy_score(y_train, y_pred))\n",
    "y_pred = svc_best_model.predict(x_test)\n",
    "print(accuracy_score(y_test, y_pred))"
   ]
  },
  {
   "cell_type": "markdown",
   "metadata": {},
   "source": [
    "### Neural Network"
   ]
  },
  {
   "cell_type": "code",
   "execution_count": 117,
   "metadata": {},
   "outputs": [
    {
     "name": "stdout",
     "output_type": "stream",
     "text": [
      "Fitting 10 folds for each of 75 candidates, totalling 750 fits\n"
     ]
    },
    {
     "name": "stderr",
     "output_type": "stream",
     "text": [
      "[Parallel(n_jobs=-1)]: Done  25 tasks      | elapsed:    6.6s\n",
      "[Parallel(n_jobs=-1)]: Done 146 tasks      | elapsed:   36.6s\n",
      "[Parallel(n_jobs=-1)]: Done 349 tasks      | elapsed:  1.5min\n",
      "[Parallel(n_jobs=-1)]: Done 632 tasks      | elapsed:  2.6min\n",
      "[Parallel(n_jobs=-1)]: Done 750 out of 750 | elapsed:  3.0min finished\n"
     ]
    },
    {
     "data": {
      "text/plain": [
       "{'activation': 'tanh',\n",
       " 'alpha': 0.1,\n",
       " 'hidden_layer_sizes': (100, 50),\n",
       " 'learning_rate': 'invscaling'}"
      ]
     },
     "execution_count": 117,
     "metadata": {},
     "output_type": "execute_result"
    }
   ],
   "source": [
    "nnc_search_grid = {\n",
    "        'hidden_layer_sizes': [(10, 10), (10, 50), (10, 100),\n",
    "                               (50, 10), (50, 50), (50, 100),\n",
    "                              (100, 10), (100, 50), (100, 100)],\n",
    "        'activation': ['identity', 'logistic', 'tanh'],\n",
    "        'learning_rate': ['constant', 'invscaling', 'adaptive'],\n",
    "        'alpha': [1e-1, 1e-2, 1e-3, 1e-4, 1e-5]}\n",
    "nnc = MLPClassifier()\n",
    "nnc_random = RandomizedSearchCV(estimator=nnc, param_distributions=nnc_search_grid, n_iter=75,\n",
    "                                 cv=10, verbose=2, n_jobs=-1)\n",
    "nnc_random.fit(x_train, y_train)\n",
    "nnc_random.best_params_"
   ]
  },
  {
   "cell_type": "code",
   "execution_count": 119,
   "metadata": {},
   "outputs": [
    {
     "name": "stdout",
     "output_type": "stream",
     "text": [
      "Fitting 10 folds for each of 90 candidates, totalling 900 fits\n"
     ]
    },
    {
     "name": "stderr",
     "output_type": "stream",
     "text": [
      "[Parallel(n_jobs=-1)]: Done  25 tasks      | elapsed:   10.5s\n",
      "[Parallel(n_jobs=-1)]: Done 146 tasks      | elapsed:   52.1s\n",
      "[Parallel(n_jobs=-1)]: Done 349 tasks      | elapsed:  2.0min\n",
      "[Parallel(n_jobs=-1)]: Done 632 tasks      | elapsed:  3.6min\n",
      "[Parallel(n_jobs=-1)]: Done 900 out of 900 | elapsed:  5.1min finished\n"
     ]
    },
    {
     "data": {
      "text/plain": [
       "{'activation': 'tanh',\n",
       " 'alpha': 0.2,\n",
       " 'hidden_layer_sizes': (125, 25),\n",
       " 'learning_rate': 'invscaling'}"
      ]
     },
     "execution_count": 119,
     "metadata": {},
     "output_type": "execute_result"
    }
   ],
   "source": [
    "nnc_search_grid = {\n",
    "    'hidden_layer_sizes': [(75, 25), (75, 50), (75, 75), (100, 25), (100, 50), (100, 75), (125, 25), (125, 50), (125, 75)],\n",
    "    'activation': ['tanh'],\n",
    "    'learning_rate': ['constant', 'invscaling'],\n",
    "    'alpha': [0.08, 0.09, 0.1, 0.2, 0.3]}\n",
    "nnc_grid = GridSearchCV(estimator=nnc, param_grid=nnc_search_grid, cv=10, verbose=2, n_jobs=-1)\n",
    "nnc_grid.fit(x_train, y_train)\n",
    "nnc_grid.best_params_"
   ]
  },
  {
   "cell_type": "code",
   "execution_count": 120,
   "metadata": {},
   "outputs": [
    {
     "name": "stdout",
     "output_type": "stream",
     "text": [
      "0.547342192691\n",
      "0.524916943522\n"
     ]
    }
   ],
   "source": [
    "nnc_best_model = nnc_grid.best_estimator_\n",
    "y_pred = nnc_best_model.predict(x_train)\n",
    "print(accuracy_score(y_train, y_pred))\n",
    "y_pred = nnc_best_model.predict(x_test)\n",
    "print(accuracy_score(y_test, y_pred))"
   ]
  },
  {
   "cell_type": "markdown",
   "metadata": {},
   "source": [
    "# Comparing Algorithms"
   ]
  },
  {
   "cell_type": "code",
   "execution_count": 121,
   "metadata": {},
   "outputs": [],
   "source": [
    "models = []\n",
    "models.append(('RFC', rfc_best_model))\n",
    "models.append(('SVC', svc_best_model))\n",
    "models.append(('NNC', nnc_best_model))"
   ]
  },
  {
   "cell_type": "code",
   "execution_count": 123,
   "metadata": {},
   "outputs": [
    {
     "name": "stdout",
     "output_type": "stream",
     "text": [
      "RFC: Mean=0.764671 STD=0.085989\n",
      "SVC: Mean=0.695638 STD=0.076755\n",
      "NNC: Mean=0.627152 STD=0.192987\n"
     ]
    },
    {
     "data": {
      "image/png": "[encoded data removed]",
      "text/plain": [
       "<matplotlib.figure.Figure at 0x25638aa2ef0>"
      ]
     },
     "metadata": {},
     "output_type": "display_data"
    }
   ],
   "source": [
    "results = []\n",
    "names = []\n",
    "scoring = 'accuracy'\n",
    "for model_name, model in models:\n",
    "    kfold = model_selection.KFold(n_splits=10, random_state=0)\n",
    "    cv_results = model_selection.cross_val_score(model, x, y, cv=kfold, scoring=scoring)\n",
    "    results.append(cv_results)\n",
    "    names.append(model_name)\n",
    "    print(\"%s: Mean=%f STD=%f\" % (model_name, cv_results.mean(), cv_results.std()))\n",
    "fig = plt.figure()\n",
    "fig.suptitle('Algorithm Comparison')\n",
    "ax = fig.add_subplot(111)\n",
    "plt.boxplot(results)\n",
    "ax.set_xticklabels(names)\n",
    "plt.show()"
   ]
  },
  {
   "cell_type": "code",
   "execution_count": null,
   "metadata": {
    "collapsed": true
   },
   "outputs": [],
   "source": []
  }
 ],
 "metadata": {
  "kernelspec": {
   "display_name": "Python 3",
   "language": "python",
   "name": "python3"
  },
  "language_info": {
   "codemirror_mode": {
    "name": "ipython",
    "version": 3
   },
   "file_extension": ".py",
   "mimetype": "text/x-python",
   "name": "python",
   "nbconvert_exporter": "python",
   "pygments_lexer": "ipython3",
   "version": "3.6.3"
  }
 },
 "nbformat": 4,
 "nbformat_minor": 2
}
